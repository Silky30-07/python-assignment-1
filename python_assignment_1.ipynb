{
  "nbformat": 4,
  "nbformat_minor": 0,
  "metadata": {
    "colab": {
      "provenance": []
    },
    "kernelspec": {
      "name": "python3",
      "display_name": "Python 3"
    },
    "language_info": {
      "name": "python"
    }
  },
  "cells": [
    {
      "cell_type": "markdown",
      "source": [],
      "metadata": {
        "id": "60LVhXN6wjs8"
      }
    },
    {
      "cell_type": "markdown",
      "source": [
        " python basic question\n",
        "\n",
        "* ques 1: What is Python, and why is it popular?\n",
        "\n",
        "  python is a object oriented and high level interpreted programming language. it is known for its simplicity and readability . it is created by Guido Van Rossum during 1985-1990.\n",
        "  python is popular for various reason:\n",
        "\n",
        "  **1.ease of learning and use**: python uses simple language , few keywords and simple structure. it makes it easy to learn the language.\n",
        "\n",
        "  **2.Easy Syntax:** Python has a  readable syntax, making it easier to write and understand code. This is ideal for beginners and helps developers be more productive.\n",
        "\n",
        "**3.Integration:** Python can integrate well with other languages such as C, C++, and Java, and is commonly used for scripting in larger software systems.\n",
        "\n",
        "**4.easy to maintain:**Python's source code is fairly easy-to-maintain.\n",
        "\n",
        "5.**Large set of Libraries:** Python has an extensive set of libraries and frameworks for various applications.\n",
        "\n",
        "ques2: What is an interpreter in Python?\n",
        "\n",
        "An interpreter in Python is a program that reads and executes Python code line by line, converting it into machine code that the computer can understand and run. an interpreter processes the code one statement at a time.\n",
        "\n",
        "ques 3:   What are pre-defined keywords in Python?\n",
        "\n",
        "In Python, predefined keywords are also called reserved words. there are special words that have a predefined meaning and are used to define the syntax and structure of the language. These keywords cannot be used as identifiers such as variable names, function names, or class names because they are reserved for specific language functionality. there are 35 predefined keywords such as:\n",
        "\n",
        " **False, None, True: **These are special constant values in Python. False is a Boolean value, None is a null value, and True is the Boolean \"true.\"\n",
        "\n",
        "**and, or, not**: These are logical operators used for boolean expressions.\n",
        "\n",
        "**if, elif, else:** These keywords are used for conditional statements.\n",
        "\n",
        "**for, in**: Used in loops for iterating over a sequence (like a list, tuple, etc.).\n",
        "\n",
        "**def:** Used to define functions.\n",
        "\n",
        "**class**: Used to define classes.\n",
        "\n",
        "**try, except, finally**: Used for exception handling to deal with errors during runtime.\n",
        "\n",
        "**import, from**: Used to include external modules or specific parts of modules into the current script.\n",
        "\n",
        "**return:** Used to return a value from a function.\n",
        "\n",
        "ques4: Can keywords be used as variable names?\n",
        "\n",
        "No, keywords cannot be used as variable names in Python. Keywords are reserved words that have specific meanings in the Python language and are used to define the structure and flow of the program. As a result, they cannot be used as identifiers such as variable names, function names, or class names.\n",
        "\n",
        "\n",
        "\n",
        "\n"
      ],
      "metadata": {
        "id": "yE7wjZP5woJO"
      }
    },
    {
      "cell_type": "code",
      "source": [
        "if=50"
      ],
      "metadata": {
        "colab": {
          "base_uri": "https://localhost:8080/",
          "height": 110
        },
        "id": "6UBOqbbC8J0A",
        "outputId": "9d92e91f-f021-4a99-d5ba-d095ffe61a68"
      },
      "execution_count": null,
      "outputs": [
        {
          "output_type": "error",
          "ename": "SyntaxError",
          "evalue": "invalid syntax (<ipython-input-1-153b7cec9b89>, line 1)",
          "traceback": [
            "\u001b[0;36m  File \u001b[0;32m\"<ipython-input-1-153b7cec9b89>\"\u001b[0;36m, line \u001b[0;32m1\u001b[0m\n\u001b[0;31m    if=50\u001b[0m\n\u001b[0m      ^\u001b[0m\n\u001b[0;31mSyntaxError\u001b[0m\u001b[0;31m:\u001b[0m invalid syntax\n"
          ]
        }
      ]
    },
    {
      "cell_type": "markdown",
      "source": [
        "In this case, \"if\" is a keyword and trying to use it as a variable name is not allowed.\n",
        "\n",
        "ques5: What is mutability in Python?\n",
        "\n",
        "  An object is mutable if its state or value can be changed after it is created, and it is immutable if its state or value cannot be changed after it is created.\n",
        "\n",
        "Mutable Objects:\n",
        "Mutable objects are those that allow modification of their internal state or value after creation. Some examples of mutable objects in Python include:\n",
        "\n",
        "Lists\n",
        "Dictionaries\n",
        "Sets\n",
        "\n",
        "Immutable Objects:\n",
        "Immutable objects, cannot be changed once they are created. If you attempt to modify an immutable object, a new object is created instead. Some examples of immutable objects in Python include:\n",
        "\n",
        "Strings\n",
        "Tuples\n",
        "Integers\n",
        "Floats\n",
        "Frozen sets\n",
        "\n",
        "ques6: Why are lists mutable, but tuples are immutable?\n",
        "\n",
        " mutable lists and immutable tuples in Python is a design choice based on the intended use cases and performance considerations.\n",
        "\n",
        " Lists (Mutable): Lists are designed to represent ordered collections of items that may change over time. This flexibility allows lists to be used when you need to modify, add, or remove elements dynamically.\n",
        " Lists are mutable, so they allow changes in their structure (e.g., adding/removing elements). This flexibility, however, comes with a slight performance cost due to the overhead required to manage the changes.  \n",
        " For example, a list might be used to represent a sequence of values that will be updated as the program progresses, such as collecting user input or processing data.\n",
        "\n",
        "Tuples (Immutable): Tuples are designed to represent fixed, ordered collections of items. They are intended for use when the data should not be altered after creation. This makes them suitable for representing \"constants\" or \"records\" that should remain unchanged throughout the program.\n",
        "for Examples include returning multiple values from a function or representing a coordinate pair (x, y), where the values should not change.\n",
        "\n",
        "ques7: What is the difference between “==” and “is” operators in Python?\n",
        "\n",
        "In Python, both \"==\" and \"is\" are comparison operators, but they serve different purposes for example:\n",
        "\n",
        "1. == (Equality Operator):\n",
        " The\" ==\" operator checks whether the values of two objects are equal.\n",
        "It compares the contents of the objects to see if they hold the same value, regardless of whether they are the same object in memory.\n"
      ],
      "metadata": {
        "id": "LVsyC7c38Y5O"
      }
    },
    {
      "cell_type": "code",
      "source": [
        "a=14\n",
        "b=14\n",
        "print(a==b)"
      ],
      "metadata": {
        "colab": {
          "base_uri": "https://localhost:8080/"
        },
        "id": "Cj0Ecpp-CTkE",
        "outputId": "9be58878-f201-4605-c491-26256cd9ad14"
      },
      "execution_count": null,
      "outputs": [
        {
          "output_type": "stream",
          "name": "stdout",
          "text": [
            "True\n"
          ]
        }
      ]
    },
    {
      "cell_type": "markdown",
      "source": [],
      "metadata": {
        "id": "qtvhp2oJCjU0"
      }
    },
    {
      "cell_type": "markdown",
      "source": [
        "from above example, a == b gives True because the values of both lists are the same, even though a and b are different objects in memory.\n",
        "\n",
        " 2. is (Identity Operator):\n",
        " The is operator checks whether two objects are the same object in memory (i.e., whether they have the same identity).\n",
        "It compares the memory addresses of the objects, not their contents.\n",
        "for example\n"
      ],
      "metadata": {
        "id": "K0-XwZEgCvrd"
      }
    },
    {
      "cell_type": "code",
      "source": [
        "a=14\n",
        "c=14\n",
        "print(a is c)"
      ],
      "metadata": {
        "colab": {
          "base_uri": "https://localhost:8080/"
        },
        "id": "cCFXsU3ADSqY",
        "outputId": "56df2e14-53e5-4998-a134-6e85c7bcaa41"
      },
      "execution_count": null,
      "outputs": [
        {
          "output_type": "stream",
          "name": "stdout",
          "text": [
            "True\n"
          ]
        }
      ]
    },
    {
      "cell_type": "markdown",
      "source": [
        "ques8:  What are logical operators in Python?\n",
        "In Python, logical operators are used to combine conditional statement and evaluate expressions that result in either True or False. The three primary logical operators are:\n",
        "\n",
        "and: the outcome is True if both the conditions are True. If either condition is False, the result is False.for example:\n"
      ],
      "metadata": {
        "id": "t8ORL5wgWRKt"
      }
    },
    {
      "cell_type": "code",
      "source": [
        "x=10\n",
        "y=20\n",
        "print(x<20 and y>10) #true, beacuse both condition are true"
      ],
      "metadata": {
        "colab": {
          "base_uri": "https://localhost:8080/"
        },
        "id": "wwZwAmqkWxJL",
        "outputId": "85e77a6e-1446-4fa0-df0d-a2eb89a770b1"
      },
      "execution_count": 2,
      "outputs": [
        {
          "output_type": "stream",
          "name": "stdout",
          "text": [
            "True\n"
          ]
        }
      ]
    },
    {
      "cell_type": "markdown",
      "source": [
        "or:the outcome is  True if at least one condition is True. Only returns False if both condition are False."
      ],
      "metadata": {
        "id": "ZUPJ_GAtXUi_"
      }
    },
    {
      "cell_type": "code",
      "source": [
        "x=10\n",
        "y=20\n",
        "print(x<20 or y<10) #true, beacuse one condition is true"
      ],
      "metadata": {
        "colab": {
          "base_uri": "https://localhost:8080/"
        },
        "id": "bb8F8I9IX70Y",
        "outputId": "30c87043-7898-4477-b5ca-5e3cba03b979"
      },
      "execution_count": 3,
      "outputs": [
        {
          "output_type": "stream",
          "name": "stdout",
          "text": [
            "True\n"
          ]
        }
      ]
    },
    {
      "cell_type": "markdown",
      "source": [
        "not: Reverses the boolean value of the condition. If the condition is True, it returns False, and if it's False, it returns True."
      ],
      "metadata": {
        "id": "t9KEa5QUYPGr"
      }
    },
    {
      "cell_type": "code",
      "source": [
        "\n",
        "x=True\n",
        "print(not x) #false beacuse not true is false"
      ],
      "metadata": {
        "colab": {
          "base_uri": "https://localhost:8080/"
        },
        "id": "skdu9WbNYZfD",
        "outputId": "6c7312b5-4645-45d6-f25d-5231759e0709"
      },
      "execution_count": 6,
      "outputs": [
        {
          "output_type": "stream",
          "name": "stdout",
          "text": [
            "False\n"
          ]
        }
      ]
    },
    {
      "cell_type": "markdown",
      "source": [
        "ques9: What is type casting in Python?\n",
        "\n",
        "Type casting in Python refers to converting one data type into another. This is typically done to ensure that values can be used in operations or contexts where specific data types are required. There are two types of type casting in Python:\n",
        "\n",
        "1. Implicit Type Casting (Automatic Type Casting):\n",
        "This happens automatically when Python can safely convert one data type to another without losing information. It generally happens when you perform operations that involve multiple data types such as :"
      ],
      "metadata": {
        "id": "09jHrBmDYuiz"
      }
    },
    {
      "cell_type": "code",
      "source": [
        "a=20 #integer\n",
        "b=.5 #float\n",
        "c=a+b\n",
        "print(c) #converting int to float"
      ],
      "metadata": {
        "colab": {
          "base_uri": "https://localhost:8080/"
        },
        "id": "drbODWPDZktp",
        "outputId": "84ae908a-f7f7-4acf-d5ab-5659948c81f0"
      },
      "execution_count": 7,
      "outputs": [
        {
          "output_type": "stream",
          "name": "stdout",
          "text": [
            "20.5\n"
          ]
        }
      ]
    },
    {
      "cell_type": "markdown",
      "source": [
        "2. Explicit Type Casting (Manual Type Casting):\n",
        "Explicit casting happens when you specifically tell Python to convert one data type into another using type casting functions. This is done using built-in functions such as:\n",
        "\n",
        "int(): Converts a value to an integer.\n",
        "float(): Converts a value to a float.\n",
        "str(): Converts a value to a string.\n",
        "bool(): Converts a value to a boolean (True or False).\n"
      ],
      "metadata": {
        "id": "5aqhJkhOaAcv"
      }
    },
    {
      "cell_type": "code",
      "source": [
        "a=\"50\" #string\n",
        "b=int(a)\n",
        "print(b) #converting str to int"
      ],
      "metadata": {
        "colab": {
          "base_uri": "https://localhost:8080/"
        },
        "id": "rwS_R_amaYyh",
        "outputId": "8d75b028-552f-4e06-a131-3cc2537a63f5"
      },
      "execution_count": 8,
      "outputs": [
        {
          "output_type": "stream",
          "name": "stdout",
          "text": [
            "50\n"
          ]
        }
      ]
    },
    {
      "cell_type": "code",
      "source": [
        "a=45 #int\n",
        "b=float(a)\n",
        "print(b) #converting int to float"
      ],
      "metadata": {
        "colab": {
          "base_uri": "https://localhost:8080/"
        },
        "id": "HZi_CYkfaqaL",
        "outputId": "72b7ff13-2f23-44cb-d5bb-351dabc8260f"
      },
      "execution_count": 9,
      "outputs": [
        {
          "output_type": "stream",
          "name": "stdout",
          "text": [
            "45.0\n"
          ]
        }
      ]
    },
    {
      "cell_type": "markdown",
      "source": [
        "ques10 What is the difference between implicit and explicit type casting ?\n",
        "\n",
        "The difference between implicit and explicit type casting in Python lies in how the conversion between data types is performed—whether it's done automatically by Python or manually by the programmer.\n",
        "\n",
        "1. Implicit Type Casting (Automatic Type Casting):\n",
        "D Implicit type casting occurs automatically when Python can safely convert a value from one data type to another without losing information.\n",
        " It happens when you perform an operation involving mixed data types, and\n",
        "Python automatically converts the lower type to the higher type to ensure compatibility.\n",
        " It's typically used when combining or performing operations between values of different but compatible data types, like int and float, where there is no risk of losing data or precision.\n",
        "\n"
      ],
      "metadata": {
        "id": "zMiqUovVbOrt"
      }
    },
    {
      "cell_type": "code",
      "source": [
        "a=100.5  #float\n",
        "b=20 #int\n",
        "c=(a-b)\n",
        "print(c) #converting float to int"
      ],
      "metadata": {
        "colab": {
          "base_uri": "https://localhost:8080/"
        },
        "id": "EMpxkW3Icqwn",
        "outputId": "06a60f8c-4eb2-40a9-cc98-9f328222d04d"
      },
      "execution_count": 13,
      "outputs": [
        {
          "output_type": "stream",
          "name": "stdout",
          "text": [
            "80.5\n"
          ]
        }
      ]
    },
    {
      "cell_type": "markdown",
      "source": [
        ". Explicit Type Casting (Manual Type Casting):\n",
        " Explicit type casting happens when the programmer manually converts a value from one data type to another using casting functions like int, float, str etc.\n",
        " It happens when you need to intentionally convert a value to a different data type, usually to perform an operation that requires a specific type or to handle user input.\n",
        "  It's used when you want to control the conversion explicitly, such as converting strings to integers or floats, or vice versa."
      ],
      "metadata": {
        "id": "yHKQ9iFwdXPN"
      }
    },
    {
      "cell_type": "code",
      "source": [
        "a=10.6\n",
        "b=int(a)\n",
        "print(b)"
      ],
      "metadata": {
        "colab": {
          "base_uri": "https://localhost:8080/"
        },
        "id": "CaDfgFB6d1fl",
        "outputId": "4d023227-3318-49eb-daa7-67b5e8c8bb80"
      },
      "execution_count": 14,
      "outputs": [
        {
          "output_type": "stream",
          "name": "stdout",
          "text": [
            "10\n"
          ]
        }
      ]
    },
    {
      "cell_type": "markdown",
      "source": [
        "ques 11: What is the purpose of conditional statements in Python?\n",
        "\n",
        "The purpose of conditional statements in Python is to control the flow of a program by executing certain blocks of code based on whether a condition (or multiple conditions) is True or False. This allows the program to make decisions and perform different actions depending on specific criteria, which is crucial for implementing logic and handling different scenarios in a program.\n",
        "\n",
        "Key Conditional Statements in Python:\n",
        "if statement: Executes a block of code if the specified condition is True.\n",
        "\n",
        "elif statement: Checks additional conditions if the previous if or elif conditions were False.\n",
        "\n",
        "else statement: Executes a block of code if none of the previous conditions are True"
      ],
      "metadata": {
        "id": "_56eBl5TeqRw"
      }
    },
    {
      "cell_type": "code",
      "source": [
        "x=5\n",
        "if x>0:\n",
        "  print(\"x is positive\")"
      ],
      "metadata": {
        "colab": {
          "base_uri": "https://localhost:8080/"
        },
        "id": "IglKmJHOfEQv",
        "outputId": "f8ad28bc-7dd0-4a8d-8dfd-e12799c518f9"
      },
      "execution_count": 15,
      "outputs": [
        {
          "output_type": "stream",
          "name": "stdout",
          "text": [
            "x is positive\n"
          ]
        }
      ]
    },
    {
      "cell_type": "code",
      "source": [
        "x=-1\n",
        "if x>0:\n",
        "  print(\"x is positive\")\n",
        "elif x<0:\n",
        "  print(\"x is negative\")\n"
      ],
      "metadata": {
        "colab": {
          "base_uri": "https://localhost:8080/"
        },
        "id": "WbrD-H7cfcrU",
        "outputId": "1a8f788f-ffc2-42ed-ad4d-42edead24cbb"
      },
      "execution_count": 18,
      "outputs": [
        {
          "output_type": "stream",
          "name": "stdout",
          "text": [
            "x is negative\n"
          ]
        }
      ]
    },
    {
      "cell_type": "code",
      "source": [
        "x=0\n",
        "if x>0:\n",
        "  print(\"x is positive\")\n",
        "elif x<0:\n",
        "  print(\"x is negative\")\n",
        "else:\n",
        "  print(\"x is zero\")"
      ],
      "metadata": {
        "colab": {
          "base_uri": "https://localhost:8080/"
        },
        "id": "WOotgb5wfp46",
        "outputId": "f130109a-93c6-415b-9624-7e19dc92d6ca"
      },
      "execution_count": 20,
      "outputs": [
        {
          "output_type": "stream",
          "name": "stdout",
          "text": [
            "x is zero\n"
          ]
        }
      ]
    },
    {
      "cell_type": "markdown",
      "source": [
        "ques 12: How does the elif statement work?\n",
        "\n",
        "The elif statement in Python stands for \"else if\" and is used to check additional conditions if the previous if or elif conditions were False. It allows you to test multiple conditions in a sequence and execute different blocks of code based on which condition is True.\n",
        "if statement: Executes a block of code if the specified condition is True.\n",
        "\n",
        "elif statement: Checks additional conditions if the previous if or elif conditions were False.\n",
        "\n",
        "else statement: Executes a block of code if none of the previous conditions are True"
      ],
      "metadata": {
        "id": "x6rDMVwOgAqT"
      }
    },
    {
      "cell_type": "code",
      "source": [
        "x=-10\n",
        "if x==5:\n",
        "  print(\"x is 5\")\n",
        "elif x<5:\n",
        "  print(\"x is less than 5\")\n",
        "else:\n",
        "  print(\"x is greater than 5\")\n",
        "print(\"done\")"
      ],
      "metadata": {
        "colab": {
          "base_uri": "https://localhost:8080/"
        },
        "id": "zdj6h8kMgWj_",
        "outputId": "358250f9-5c2a-48c8-9004-7530de45c4d3"
      },
      "execution_count": 23,
      "outputs": [
        {
          "output_type": "stream",
          "name": "stdout",
          "text": [
            "x is less than 5\n",
            "done\n"
          ]
        }
      ]
    },
    {
      "cell_type": "markdown",
      "source": [
        "ques 13:What is the difference between for and while loop?\n",
        "\n",
        "The main difference between for and while loops in Python is how they control iteration and when the loop termination condition is checked. Here's a detailed breakdown of the differences:\n",
        "\n",
        "1. For Loop:\n",
        "\n",
        " The for loop is typically used when you know in advance how many times you want to iterate over a sequence or iterable (e.g., a list, tuple, string, range, etc.).\n",
        " It iterates over a sequence or a collection of items.\n",
        " The for loop automatically picks the next item in the sequence and continues looping until it has exhausted all items.\n"
      ],
      "metadata": {
        "id": "Pn8gg3UWhq1t"
      }
    },
    {
      "cell_type": "code",
      "source": [
        "num=[1,2,3,4,5]\n",
        "for i in num:\n",
        "  print(i , end=\" \")"
      ],
      "metadata": {
        "colab": {
          "base_uri": "https://localhost:8080/"
        },
        "id": "muu3LZWDh8Yp",
        "outputId": "0e1cc691-1ffc-4064-e351-29b07419b355"
      },
      "execution_count": 27,
      "outputs": [
        {
          "output_type": "stream",
          "name": "stdout",
          "text": [
            "1 2 3 4 5 "
          ]
        }
      ]
    },
    {
      "cell_type": "markdown",
      "source": [
        ". While Loop:\n",
        "\n",
        " The while loop is used when you want to continue looping as long as a certain condition is True. You might not know the number of iterations in advance.\n",
        " It runs as long as the condition evaluates to True.\n",
        "If the condition is True, the loop continues; if it's False, the loop terminates."
      ],
      "metadata": {
        "id": "3fIlPMLSiPG8"
      }
    },
    {
      "cell_type": "code",
      "source": [
        "num=[1,2,3,4,5]\n",
        "while i in num:\n",
        "  print(i,end=\" \")\n",
        "  i+=1\n",
        ""
      ],
      "metadata": {
        "colab": {
          "base_uri": "https://localhost:8080/"
        },
        "id": "m03tS-QbiipK",
        "outputId": "98fc626c-38a8-4fea-fdbf-edd38df692ab"
      },
      "execution_count": 29,
      "outputs": [
        {
          "output_type": "stream",
          "name": "stdout",
          "text": [
            "5 "
          ]
        }
      ]
    },
    {
      "cell_type": "markdown",
      "source": [
        "ques 14:Describe a scenario where a while loop is more suitable than a for loop.?\n",
        "\n",
        "\n",
        "A while loop is more suitable than a for loop in situations where you don't know in advance how many iterations will be needed, and the loop should continue until a specific condition is met.\n",
        "\n",
        "for example:\n",
        "\n",
        "Suppose you're building a program in which you have to enter person's retirement age. The program should keep asking for the retirement age until the user enters the correct one, but you don't know how many attempts it will take.\n",
        "\n",
        "This is a perfect case for using a while loop because the number of iterations is unknown. The loop should continue as long as the user's input is incorrect, and it should stop when the correct age is entered."
      ],
      "metadata": {
        "id": "Hx5tsWFcjkzJ"
      }
    },
    {
      "cell_type": "markdown",
      "source": [
        "**pratical questions **"
      ],
      "metadata": {
        "id": "4HRrJCtSmr8T"
      }
    },
    {
      "cell_type": "markdown",
      "source": [
        "ques1\n"
      ],
      "metadata": {
        "id": "BaU_gLcum0Oj"
      }
    },
    {
      "cell_type": "code",
      "source": [
        "#ques1\n",
        "#Write a Python program to print \"Hello, World!\n",
        "print(\"hello, world!\")"
      ],
      "metadata": {
        "colab": {
          "base_uri": "https://localhost:8080/"
        },
        "id": "jnGHgOybm2lF",
        "outputId": "c4a2ffa2-809e-4086-8a03-82d26e274e20"
      },
      "execution_count": 43,
      "outputs": [
        {
          "output_type": "stream",
          "name": "stdout",
          "text": [
            "hello, world!\n"
          ]
        }
      ]
    },
    {
      "cell_type": "code",
      "source": [
        "#ques2\n",
        "# Write a Python program that displays your name and age\n",
        "name=\"silky chauhan\"\n",
        "age=22\n",
        "print(\"name:\",name)\n",
        "print(\"age:\",age)"
      ],
      "metadata": {
        "colab": {
          "base_uri": "https://localhost:8080/"
        },
        "id": "sIguGkLCqSop",
        "outputId": "6e0a3af9-2f4d-477a-f037-428bf2211160"
      },
      "execution_count": 42,
      "outputs": [
        {
          "output_type": "stream",
          "name": "stdout",
          "text": [
            "name: silky chauhan\n",
            "age: 22\n"
          ]
        }
      ]
    },
    {
      "cell_type": "code",
      "source": [
        "#ques3\n",
        "# Write code to print all the pre-defined keywords in Python using the keyword library\n",
        "import keyword\n",
        "print(keyword.kwlist)\n"
      ],
      "metadata": {
        "colab": {
          "base_uri": "https://localhost:8080/"
        },
        "id": "sRvTmipfq2R5",
        "outputId": "29b83897-7110-4759-d4f5-85430e28f146"
      },
      "execution_count": 41,
      "outputs": [
        {
          "output_type": "stream",
          "name": "stdout",
          "text": [
            "['False', 'None', 'True', 'and', 'as', 'assert', 'async', 'await', 'break', 'class', 'continue', 'def', 'del', 'elif', 'else', 'except', 'finally', 'for', 'from', 'global', 'if', 'import', 'in', 'is', 'lambda', 'nonlocal', 'not', 'or', 'pass', 'raise', 'return', 'try', 'while', 'with', 'yield']\n"
          ]
        }
      ]
    },
    {
      "cell_type": "code",
      "source": [
        "#ques4\n",
        "#Write a program that checks if a given word is a Python keyword\n",
        "import keyword\n",
        "word = input(\"Enter a word: \")\n",
        "if keyword.iskeyword(word):\n",
        "    print(f\"{word} is a Python keyword.\")\n",
        "else:\n",
        "    print(f\"{word} is not a Python keyword.\")"
      ],
      "metadata": {
        "colab": {
          "base_uri": "https://localhost:8080/"
        },
        "id": "ix2_ONNsrNPo",
        "outputId": "a2bcb168-6831-47ff-a701-e80fb81f37aa"
      },
      "execution_count": 40,
      "outputs": [
        {
          "output_type": "stream",
          "name": "stdout",
          "text": [
            "Enter a word: break\n",
            "break is a Python keyword.\n"
          ]
        }
      ]
    },
    {
      "cell_type": "code",
      "source": [
        "#ques5\n",
        "#create a list and tuple in Python, and demonstrate how attempting to change an element works differently for each\n",
        "list = [1, 2, 3, 4]\n",
        "\n",
        "# Create a tuple\n",
        "tuple = (1, 2, 3, 4)\n",
        "\n",
        "print(\"Original List:\", list)\n",
        "list[0] = 10\n",
        "print(\"Modified List:\", list)\n",
        "\n",
        "print(\"\\nOriginal Tuple:\", tuple)\n",
        "try:\n",
        "    tuple[0] = 10\n",
        "except TypeError as e:\n",
        "    print(f\"Error while modifying tuple: {e}\")\n"
      ],
      "metadata": {
        "colab": {
          "base_uri": "https://localhost:8080/"
        },
        "id": "cVq66-5Qt590",
        "outputId": "04b313a1-63b9-4b3a-b050-ea4da005d85e"
      },
      "execution_count": 50,
      "outputs": [
        {
          "output_type": "stream",
          "name": "stdout",
          "text": [
            "Original List: [1, 2, 3, 4]\n",
            "Modified List: [10, 2, 3, 4]\n",
            "\n",
            "Original Tuple: (1, 2, 3, 4)\n",
            "Error while modifying tuple: 'tuple' object does not support item assignment\n"
          ]
        }
      ]
    },
    {
      "cell_type": "code",
      "source": [
        "#ques6\n",
        "# Write a function to demonstrate the behavior of mutable and immutable arguments\n",
        "def modify_arguments(mutable_arg, immutable_arg):\n",
        "    mutable_arg.append(99)\n",
        "    print(\"Inside function - Modified mutable_arg:\", mutable_arg)\n",
        "    immutable_arg = 10\n",
        "    print(\"Inside function - Modified immutable_arg:\", immutable_arg)\n",
        "my_list = [1, 2, 3]\n",
        "my_int = 5\n",
        "\n",
        "print(\"Before function call:\")\n",
        "print(\"my_list:\", my_list)\n",
        "print(\"my_int:\", my_int)\n",
        "\n",
        "modify_arguments(my_list, my_int)\n",
        "\n",
        "print(\"\\nAfter function call:\")\n",
        "print(\"my_list:\", my_list)\n",
        "print(\"my_int:\", my_int)\n",
        "\n"
      ],
      "metadata": {
        "colab": {
          "base_uri": "https://localhost:8080/"
        },
        "id": "lPWckkH0uqCw",
        "outputId": "bb08f484-2f22-41cf-9367-b849181a1cf0"
      },
      "execution_count": 81,
      "outputs": [
        {
          "output_type": "stream",
          "name": "stdout",
          "text": [
            "Before function call:\n",
            "my_list: [1, 2, 3]\n",
            "my_int: 5\n",
            "Inside function - Modified mutable_arg: [1, 2, 3, 99]\n",
            "Inside function - Modified immutable_arg: 10\n",
            "\n",
            "After function call:\n",
            "my_list: [1, 2, 3, 99]\n",
            "my_int: 5\n"
          ]
        }
      ]
    },
    {
      "cell_type": "code",
      "source": [
        "#ques 7 repetition of ques 6."
      ],
      "metadata": {
        "id": "_UrE3VGs_ebm"
      },
      "execution_count": null,
      "outputs": []
    },
    {
      "cell_type": "code",
      "source": [
        "#ques8\n",
        "#Write a program to demonstrate the use of logical operators\n",
        "\n",
        "x = 10\n",
        "y = 5\n",
        "z = 20\n",
        "if x > y and z > x:\n",
        "    print(\" Both conditions are True\")\n",
        "else:\n",
        "  print(\"atleast one condition is true\")\n",
        "\n",
        "\n",
        "if x < y or z > x:\n",
        "    print(\" At least one condition is True\")\n",
        "else:\n",
        "    print(\"Both conditions are False\")\n",
        "\n",
        "if not(x < y):\n",
        "    print(\" x is not less than y\")\n",
        "else:\n",
        "    print(\"x is less than y\")\n",
        "\n"
      ],
      "metadata": {
        "colab": {
          "base_uri": "https://localhost:8080/"
        },
        "id": "O_M0Deajv_72",
        "outputId": "fa4e2a6e-9529-4d48-e3cd-e96552cbb4eb"
      },
      "execution_count": 60,
      "outputs": [
        {
          "output_type": "stream",
          "name": "stdout",
          "text": [
            " Both conditions are True\n",
            " At least one condition is True\n",
            " x is not less than y\n"
          ]
        }
      ]
    },
    {
      "cell_type": "code",
      "source": [
        "#ques9\n",
        "#Write a Python program to convert user input from string to integer, float, and boolean types\n",
        "a=input(\"enter a number\")\n",
        "try:\n",
        "    b = int(a)\n",
        "    print(f\"Converted to integer: {a}\")\n",
        "except ValueError:\n",
        "    print(\"The input cannot be converted to an integer.\")\n",
        "\n",
        "try:\n",
        "    c = float(a)\n",
        "    print(f\"Converted to float: {c}\")\n",
        "except ValueError:\n",
        "    print(\"The input cannot be converted to a float.\")\n",
        "\n",
        "l = bool(a)\n",
        "print(f\"Converted to boolean: {l}\")\n",
        "\n"
      ],
      "metadata": {
        "colab": {
          "base_uri": "https://localhost:8080/"
        },
        "id": "aGvtGIHPyFWw",
        "outputId": "76b18246-a6ee-4211-e3c5-ec66621bdc44"
      },
      "execution_count": 64,
      "outputs": [
        {
          "output_type": "stream",
          "name": "stdout",
          "text": [
            "enter a number65\n",
            "Converted to integer: 65\n",
            "Converted to float: 65.0\n",
            "Converted to boolean: True\n"
          ]
        }
      ]
    },
    {
      "cell_type": "code",
      "source": [
        "#ques10\n",
        "# Write code to demonstrate type casting with list element\n",
        "x = [\"1\", \"2\", \"3\", \"4.5\", \"True\"]\n",
        "\n",
        "string_list = [\"1\", \"2\", \"3\", \"4.5\", \"True\"]\n",
        "\n",
        "\n",
        "int_list = [int(item) if item.isdigit() else item for item in string_list]\n",
        "print(\"Converted to integers (if possible):\", int_list)\n",
        "\n",
        "float_list = [float(item) if item.replace(\".\", \"\", 1).isdigit() else item for item in string_list]\n",
        "print(\"Converted to floats (if possible):\", float_list)\n",
        "\n",
        "\n",
        "bool_list = [bool(item) for item in string_list]\n",
        "print(\"Converted to booleans:\", bool_list)\n",
        "\n",
        "\n",
        "str_list = [str(item) for item in string_list]\n",
        "print(\"Converted to strings:\", str_list)\n",
        "\n"
      ],
      "metadata": {
        "colab": {
          "base_uri": "https://localhost:8080/"
        },
        "id": "vrmT73xX1J6G",
        "outputId": "600e2e6f-d948-4d29-be1e-844ea7125ff1"
      },
      "execution_count": 65,
      "outputs": [
        {
          "output_type": "stream",
          "name": "stdout",
          "text": [
            "Converted to integers (if possible): [1, 2, 3, '4.5', 'True']\n",
            "Converted to floats (if possible): [1.0, 2.0, 3.0, 4.5, 'True']\n",
            "Converted to booleans: [True, True, True, True, True]\n",
            "Converted to strings: ['1', '2', '3', '4.5', 'True']\n"
          ]
        }
      ]
    },
    {
      "cell_type": "code",
      "source": [
        "#ques11\n",
        "# Write a program that checks if a number is positive, negative, or zero\n",
        "\n",
        "number = int(input(\"Enter a number: \"))\n",
        "\n",
        "\n",
        "if number > 0:\n",
        "    print(f\"The number {number} is positive.\")\n",
        "elif number < 0:\n",
        "    print(f\"The number {number} is negative.\")\n",
        "else:\n",
        "    print(f\"The number {number} is zero.\")\n"
      ],
      "metadata": {
        "colab": {
          "base_uri": "https://localhost:8080/"
        },
        "id": "5FGGLRms2MZH",
        "outputId": "cb8ff05d-b48b-4df3-80ea-978d5810b658"
      },
      "execution_count": 67,
      "outputs": [
        {
          "output_type": "stream",
          "name": "stdout",
          "text": [
            "Enter a number: 10\n",
            "The number 10 is positive.\n"
          ]
        }
      ]
    },
    {
      "cell_type": "code",
      "source": [
        "#ques12\n",
        "#Write a for loop to print numbers from 1 to 10\n",
        "# Using a for loop to print numbers from 1 to 10\n",
        "for i in range(1, 11):\n",
        "    print(i, end=\" \")\n"
      ],
      "metadata": {
        "colab": {
          "base_uri": "https://localhost:8080/"
        },
        "id": "HG6-yev12sHS",
        "outputId": "bb1576f3-3a4a-4935-f6b7-87b157dafaff"
      },
      "execution_count": 75,
      "outputs": [
        {
          "output_type": "stream",
          "name": "stdout",
          "text": [
            "1 2 3 4 5 6 7 8 9 10 "
          ]
        }
      ]
    },
    {
      "cell_type": "code",
      "source": [
        "#ques13\n",
        "# Write a Python program to find the sum of all even numbers between 1 and 50\n",
        "\n",
        "sum_of_even_numbers = 0\n",
        "\n",
        "for num in range(2, 51, 2):\n",
        "    sum_of_even_numbers += num\n",
        "\n",
        "print(\"The sum of all even numbers between 1 and 50 is:\", sum_of_even_numbers)\n"
      ],
      "metadata": {
        "colab": {
          "base_uri": "https://localhost:8080/"
        },
        "id": "URBqFV9W3uZK",
        "outputId": "04e0faae-fd82-4c76-972b-a53516b89e8c"
      },
      "execution_count": 76,
      "outputs": [
        {
          "output_type": "stream",
          "name": "stdout",
          "text": [
            "The sum of all even numbers between 1 and 50 is: 650\n"
          ]
        }
      ]
    },
    {
      "cell_type": "code",
      "source": [
        "#ques14\n",
        "# Write a program to reverse a string using a while loop\n",
        "\n",
        "a= input(\"Enter a string: \")\n",
        "reversed_string = \"\"\n",
        "index = len(a) - 1\n",
        "while index >= 0:\n",
        "    reversed_string += a[index]\n",
        "    index -= 1\n",
        "\n",
        "print(\"Reversed string:\", reversed_string)\n"
      ],
      "metadata": {
        "colab": {
          "base_uri": "https://localhost:8080/"
        },
        "id": "pIWEO6Ey4QXG",
        "outputId": "ee07f0b3-1cc7-4970-9b29-21cbf0621c58"
      },
      "execution_count": 78,
      "outputs": [
        {
          "output_type": "stream",
          "name": "stdout",
          "text": [
            "Enter a string: today is  sunday\n",
            "Reversed string: yadnus  si yadot\n"
          ]
        }
      ]
    },
    {
      "cell_type": "code",
      "source": [
        "#ques15\n",
        "# Write a Python program to calculate the factorial of a number provided by the user using a while loop.\n",
        "\n",
        "number = int(input(\"Enter a number to find its factorial: \"))\n",
        "\n",
        "factorial = 1\n",
        "i = 1\n",
        "while i <= number:\n",
        "    factorial *= i\n",
        "    i += 1\n",
        "print(f\"The factorial of {number} is: {factorial}\")\n"
      ],
      "metadata": {
        "colab": {
          "base_uri": "https://localhost:8080/"
        },
        "id": "cnZvacTB5_3h",
        "outputId": "575385e7-13ea-43b9-8e32-853302587e90"
      },
      "execution_count": 79,
      "outputs": [
        {
          "output_type": "stream",
          "name": "stdout",
          "text": [
            "Enter a number to find its factorial: 10\n",
            "The factorial of 10 is: 3628800\n"
          ]
        }
      ]
    }
  ]
}